{
 "cells": [
  {
   "cell_type": "markdown",
   "metadata": {},
   "source": [
    "# Comma Code\n",
    "commaCode() function takes a list value as an argument and returns a string with all the items seperated by comma and a space, with and inserted before the last item.\n",
    " * spam=['apples','bananas','tofu','cats']\n",
    "   * For example, passing the above spam list to the function would return 'apples, bananas, tofu, and cats'.\n",
    "   "
   ]
  },
  {
   "cell_type": "code",
   "execution_count": 58,
   "metadata": {},
   "outputs": [
    {
     "name": "stdout",
     "output_type": "stream",
     "text": [
      "apples, banans, tofu and cats.\n"
     ]
    }
   ],
   "source": [
    "'''comma code'''\n",
    "spam=['apples','banans','tofu','cats']\n",
    "def commaCode(list):\n",
    "    count=0\n",
    "    joined=''\n",
    "    while count<len(list)-2:\n",
    "        joined+=list[count]+', '\n",
    "        count+=1\n",
    "    joined+=list[-2]+' and '\n",
    "    joined+=list[-1]+'.'\n",
    "    return joined\n",
    "print(commaCode(spam))"
   ]
  },
  {
   "cell_type": "code",
   "execution_count": null,
   "metadata": {},
   "outputs": [],
   "source": []
  }
 ],
 "metadata": {
  "kernelspec": {
   "display_name": "Python 3",
   "language": "python",
   "name": "python3"
  },
  "language_info": {
   "codemirror_mode": {
    "name": "ipython",
    "version": 3
   },
   "file_extension": ".py",
   "mimetype": "text/x-python",
   "name": "python",
   "nbconvert_exporter": "python",
   "pygments_lexer": "ipython3",
   "version": "3.8.5"
  }
 },
 "nbformat": 4,
 "nbformat_minor": 4
}
