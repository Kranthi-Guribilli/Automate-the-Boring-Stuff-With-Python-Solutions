{
 "cells": [
  {
   "cell_type": "markdown",
   "id": "c3f1987a",
   "metadata": {},
   "source": [
    "# Table Printer:\n",
    "* Write a function named printTable() that takes a list of lists of strings and displays it in a well-organized table with each column right-justified. Assume that all the inner lists will contain the same number of strings. For example, the value could look like this:\n",
    "* tableData = [['apples', 'oranges', 'cherries', 'banana'], ['Alice', 'Bob', 'Carol', 'David'], ['dogs', 'cats', 'moose', 'goose']]"
   ]
  },
  {
   "cell_type": "code",
   "execution_count": 11,
   "id": "031266a6",
   "metadata": {},
   "outputs": [
    {
     "name": "stdout",
     "output_type": "stream",
     "text": [
      " apples Alice  dogs \n",
      "oranges   Bob  cats \n",
      "cherris Carol moose \n",
      " banana David goose \n"
     ]
    }
   ],
   "source": [
    "def colsWidth(table):\n",
    "    colsWidth=[0]*len(table)\n",
    "    for i in range(len(table)):\n",
    "        for j in range(len(table[i])):\n",
    "            if(len(table[i][j])>colsWidth[i]):\n",
    "                colsWidth[i]=len(table[i][j])\n",
    "    return colsWidth\n",
    "def printTable(table,colsWidth):\n",
    "    for i in range(len(table[0])):\n",
    "        for j in range(len(table)):\n",
    "            print(table[j][i].rjust(colsWidth[j]),end=' ')\n",
    "        print()\n",
    "\n",
    "if __name__=='__main__':\n",
    "    tableData=[['apples','oranges','cherris','banana'],\n",
    "          ['Alice','Bob','Carol','David'],\n",
    "          ['dogs','cats','moose','goose']]\n",
    "    colsWidth=colsWidth(tableData)\n",
    "    printTable(tableData,colsWidth)"
   ]
  }
 ],
 "metadata": {
  "kernelspec": {
   "display_name": "Python 3 (ipykernel)",
   "language": "python",
   "name": "python3"
  },
  "language_info": {
   "codemirror_mode": {
    "name": "ipython",
    "version": 3
   },
   "file_extension": ".py",
   "mimetype": "text/x-python",
   "name": "python",
   "nbconvert_exporter": "python",
   "pygments_lexer": "ipython3",
   "version": "3.9.7"
  }
 },
 "nbformat": 4,
 "nbformat_minor": 5
}
