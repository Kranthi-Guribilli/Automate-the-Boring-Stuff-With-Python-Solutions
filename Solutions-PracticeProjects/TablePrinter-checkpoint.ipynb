{
 "cells": [
  {
   "cell_type": "markdown",
   "metadata": {},
   "source": [
    "# Table Printer:\n",
    "<p>Write a function named printTable() that takes a list of lists of strings \n",
    "and displays it in a well-organized table with each column right-justified. \n",
    "Assume that all the inner lists will contain the same number of strings. \n",
    "For example, the value could look like this:</p>\n",
    "tableData = [['apples', 'oranges', 'cherries', 'banana'], \n",
    "             ['Alice', 'Bob', 'Carol', 'David'], \n",
    "             ['dogs', 'cats', 'moose', 'goose']]<br>\n",
    "Your printTable() function would print the following:<br>\n",
    " <b>apples Alice dogs<br>\n",
    " oranges Bob cats<br>\n",
    " cherries Carol moose<br>\n",
    " banana David goose"
   ]
  },
  {
   "cell_type": "code",
   "execution_count": 3,
   "metadata": {},
   "outputs": [
    {
     "name": "stdout",
     "output_type": "stream",
     "text": [
      "  apples Alice  dogs \n",
      " oranges   Bob  cats \n",
      "cherries Carol moose \n",
      "  banana David goose \n"
     ]
    }
   ],
   "source": [
    "\"\"\"Prints a nicely aligned table from a list of strings.\"\"\"\n",
    "\n",
    "table_data = [['apples', 'oranges', 'cherries', 'banana'],\n",
    "              ['Alice', 'Bob', 'Carol', 'David'],\n",
    "              ['dogs', 'cats', 'moose', 'goose']]\n",
    "\n",
    "\n",
    "def print_table(table):\n",
    "    \"\"\"Print a formatted, properly aligned table version of a list.\"\"\"\n",
    "    # Create list with zeroes equal to the length of input list\n",
    "    col_widths = [0] * len(table)\n",
    "\n",
    "    # Finds longest word in each sublists and sets col_width[x] to value\n",
    "    count = 0\n",
    "    while count < len(table):\n",
    "        for item in table[count]:\n",
    "            if len(item) > col_widths[count]:\n",
    "                col_widths[count] = len(item)\n",
    "        count += 1\n",
    "\n",
    "    # Iterates over lists taking nth element from each\n",
    "    # and printing it with the other nth subitems\n",
    "    # right aligned according to the corresponding col_width value\n",
    "\n",
    "    for word in range(len(table[0])):\n",
    "        for item in range(len(table)):\n",
    "            print(table[item][word].rjust(col_widths[item]), end=' ')\n",
    "        print()\n",
    "\n",
    "\n",
    "print_table(table_data)"
   ]
  },
  {
   "cell_type": "code",
   "execution_count": null,
   "metadata": {},
   "outputs": [],
   "source": []
  }
 ],
 "metadata": {
  "kernelspec": {
   "display_name": "Python 3",
   "language": "python",
   "name": "python3"
  },
  "language_info": {
   "codemirror_mode": {
    "name": "ipython",
    "version": 3
   },
   "file_extension": ".py",
   "mimetype": "text/x-python",
   "name": "python",
   "nbconvert_exporter": "python",
   "pygments_lexer": "ipython3",
   "version": "3.8.5"
  }
 },
 "nbformat": 4,
 "nbformat_minor": 4
}
