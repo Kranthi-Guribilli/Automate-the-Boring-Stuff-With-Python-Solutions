{
 "cells": [
  {
   "cell_type": "markdown",
   "metadata": {},
   "source": [
    "# List to dictionary function for Fantasy Game Inventory\n",
    "Imagine that a vanquished dragon’s loot is represented as a list of strings like this:<br>\n",
    "dragonLoot = ['gold coin', 'dagger', 'gold coin', 'gold coin', 'ruby']<br>\n",
    "Write a function named addToInventory(inventory, addedItems), where the inventory parameter is a dictionary representing the player’s inventory (like in the previous project) and the addedItems parameter is a list like dragonLoot. The addToInventory() function should return a dictionary that represents the updated inventory.Note that the addedItems list can contain multiples of the \n",
    "same item. Your code could look something like this:"
   ]
  },
  {
   "cell_type": "code",
   "execution_count": 4,
   "metadata": {},
   "outputs": [
    {
     "name": "stdout",
     "output_type": "stream",
     "text": [
      "Inventory:\n",
      "45 gold coin\n",
      "1 rope\n",
      "1 dagger\n",
      "1 ruby\n",
      "Total nummber of items: 48\n"
     ]
    }
   ],
   "source": [
    "def display_inventory(inventory):\n",
    "    \"\"\"Print contents and total number of items in inventory.\"\"\"\n",
    "    print('Inventory:')\n",
    "    item_total = 0\n",
    "    for k, v in inventory.items():\n",
    "        print(str(v) + ' ' + k)\n",
    "        item_total += v\n",
    "    print('Total number of items : ' + str(item_total))\n",
    "def addToInventory(inventory,addItems):\n",
    "    '''Combine a list of loot with an inventory'''\n",
    "    for loot in addItems:\n",
    "        inventory.setdefault(loot,0)\n",
    "        inventory[loot]+=1\n",
    "    return(inventory)\n",
    "inv={'gold coin':42,'rope':1}\n",
    "dragonLoot=['gold coin','dagger','gold coin','gold coin','ruby']\n",
    "inv=addToInventory(inv,dragonLoot)\n",
    "displayInventory(inv)"
   ]
  }
 ],
 "metadata": {
  "kernelspec": {
   "display_name": "Python 3",
   "language": "python",
   "name": "python3"
  },
  "language_info": {
   "codemirror_mode": {
    "name": "ipython",
    "version": 3
   },
   "file_extension": ".py",
   "mimetype": "text/x-python",
   "name": "python",
   "nbconvert_exporter": "python",
   "pygments_lexer": "ipython3",
   "version": "3.8.5"
  }
 },
 "nbformat": 4,
 "nbformat_minor": 4
}
