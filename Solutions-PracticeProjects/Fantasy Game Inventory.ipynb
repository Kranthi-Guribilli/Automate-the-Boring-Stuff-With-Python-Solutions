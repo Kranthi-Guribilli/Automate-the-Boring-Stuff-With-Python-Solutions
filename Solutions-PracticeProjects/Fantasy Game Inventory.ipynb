{
 "cells": [
  {
   "cell_type": "markdown",
   "metadata": {},
   "source": [
    "# Fantasy Game Inventory:\n",
    "* You are creating a fantasy video game. The data structure to model the \n",
    "  player’s inventory will be a dictionary where the keys are string values \n",
    "  describing the item in the inventory and the value is an integer value detail\u0002ing how many of that item the player has.     For example, the dictionary value \n",
    "  {'rope': 1, 'torch': 6, 'gold coin': 42, 'dagger': 1, 'arrow': 12} means the \n",
    "  player has 1 rope, 6 torches, 42 gold coins, and so on.\n",
    "* Write a function named displayInventory() that would take any possible “inventory” and display it like the following:<br>\n",
    "Inventory:<br>\n",
    "12 arrow<br>\n",
    "42 gold coin<br>\n",
    "1 rope<br>\n",
    "6 torch<br>\n",
    "1 dagger<br>\n",
    "Total number of items: 62<br>\n",
    "Hint: You can use a for loop to loop through all the keys in a dictionary."
   ]
  },
  {
   "cell_type": "code",
   "execution_count": 2,
   "metadata": {},
   "outputs": [
    {
     "name": "stdout",
     "output_type": "stream",
     "text": [
      "Inventory:\n",
      "1 rope\n",
      "6 torch\n",
      "42 gold coin\n",
      "1 dagger\n",
      "12 arrow\n",
      "Total nummber of items: 62\n"
     ]
    }
   ],
   "source": [
    "'''Fantasy inventory game'''\n",
    "stuff={'rope':1,'torch':6,'gold coin':42,'dagger':1,'arrow':12}\n",
    "def displayInventory(inventory):\n",
    "    print(\"Inventory:\")\n",
    "    item_total=0\n",
    "    for k,v in inventory.items():\n",
    "        print(str(v)+' '+str(k))\n",
    "        item_total+=v\n",
    "    print(\"Total nummber of items: \"+str(item_total))\n",
    "displayInventory(stuff)"
   ]
  },
  {
   "cell_type": "code",
   "execution_count": null,
   "metadata": {},
   "outputs": [],
   "source": []
  }
 ],
 "metadata": {
  "kernelspec": {
   "display_name": "Python 3",
   "language": "python",
   "name": "python3"
  },
  "language_info": {
   "codemirror_mode": {
    "name": "ipython",
    "version": 3
   },
   "file_extension": ".py",
   "mimetype": "text/x-python",
   "name": "python",
   "nbconvert_exporter": "python",
   "pygments_lexer": "ipython3",
   "version": "3.8.5"
  }
 },
 "nbformat": 4,
 "nbformat_minor": 4
}
