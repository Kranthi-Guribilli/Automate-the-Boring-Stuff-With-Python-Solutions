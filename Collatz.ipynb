{
 "cells": [
  {
   "cell_type": "markdown",
   "metadata": {},
   "source": [
    "## Collatz sequence: \n",
    "Is a sequence of numbers corresponding to a positive number n formed by the following operations.\n",
    "1. If n is even, then n=n/2.\n",
    "2. If n is odd, then n=n*3+1.\n",
    "3. Repeat above steps, until it become 1."
   ]
  },
  {
   "cell_type": "code",
   "execution_count": 10,
   "metadata": {},
   "outputs": [
    {
     "name": "stdout",
     "output_type": "stream",
     "text": [
      "Choose any integer greater than 1: 6\n",
      "6\n",
      "3\n",
      "10\n",
      "5\n",
      "16\n",
      "8\n",
      "4\n",
      "2\n",
      "1\n",
      "Collatz sequence finished in 8 steps\n"
     ]
    }
   ],
   "source": [
    "''' A Collatz Sequence Program'''\n",
    "# Version with extended(It tracks the number of steps too) functionality\n",
    "def collatz(num):\n",
    "    if num>1:\n",
    "        steps=0\n",
    "        while num!=1:\n",
    "            print(int(num))\n",
    "            if(num%2==0):\n",
    "                num=num/2\n",
    "                steps+=1\n",
    "            else:\n",
    "                num=3*num+1\n",
    "                steps+=1\n",
    "        print(int(num))\n",
    "        print(\"Collatz sequence finished in \"+str(steps)+\" steps\")\n",
    "    else:\n",
    "        print(\"You entered a number which might be equal to 1 or less than it. So, you can't clearly read!\"\"So I'm shutting down before T catch your idiocy.\")\n",
    "try:\n",
    "    collatz(int(input('Choose any integer greater than 1: ')))\n",
    "except ValueError:\n",
    "    print('Non-Integer entered, program will exit')\n",
    "        \n",
    "        \n",
    "    "
   ]
  },
  {
   "cell_type": "code",
   "execution_count": null,
   "metadata": {},
   "outputs": [],
   "source": []
  }
 ],
 "metadata": {
  "kernelspec": {
   "display_name": "Python 3",
   "language": "python",
   "name": "python3"
  },
  "language_info": {
   "codemirror_mode": {
    "name": "ipython",
    "version": 3
   },
   "file_extension": ".py",
   "mimetype": "text/x-python",
   "name": "python",
   "nbconvert_exporter": "python",
   "pygments_lexer": "ipython3",
   "version": "3.8.5"
  }
 },
 "nbformat": 4,
 "nbformat_minor": 4
}
