{
 "cells": [
  {
   "cell_type": "markdown",
   "metadata": {},
   "source": [
    "# Character Picture Grid:\n",
    "* Say you have a list of lists where each value in the inner lists is a one-character string, like this:\n",
    "* grid =   [['.', '.', '.', '.', '.', '.'],\n",
    "           ['.', 'O', 'O', '.', '.', '.'],\n",
    "           ['O', 'O', 'O', 'O', '.', '.'],\n",
    "           ['O', 'O', 'O', 'O', 'O', '.'],\n",
    "           ['.', 'O', 'O', 'O', 'O', 'O'],\n",
    "           ['O', 'O', 'O', 'O', 'O', '.'],\n",
    "           ['O', 'O', 'O', 'O', '.', '.'],\n",
    "           ['.', 'O', 'O', '.', '.', '.'],\n",
    "           ['.', '.', '.', '.', '.', '.']]\n",
    " * You can think of grid[x][y] as being the character at the x- and y-coordinates of a “picture” drawn with text characters. The (0, 0) origin will be in the upper-left corner, the x-coordinates increase going right, and the y-coordinates increase going down.Copy the previous grid value, and write code that uses it to print the image.\n",
    "* ..OO.OO..<br>\n",
    "  .OOOOOOO.<br>\n",
    "  .OOOOOOO.<br>\n",
    "  ..OOOOO..<br>\n",
    "  ...OOO...<br>\n",
    "  ....O....<br>\n",
    "* Hint: You will need to use a loop in a loop in order to print grid[0][0], then grid[1][0], then grid[2][0], and so on, up to grid[8][0]. This will finish the first row, so then print a newline. Then your program should print grid[0][1], then grid[1][1], then grid[2][1], and so on. The last thing your program will print is grid[8][5]. Also, remember to pass the end keyword argument to print() if you don’t want a newline printed automatically after each print() call."
   ]
  },
  {
   "cell_type": "code",
   "execution_count": 4,
   "metadata": {},
   "outputs": [
    {
     "name": "stdout",
     "output_type": "stream",
     "text": [
      "..OO.OO..\n",
      ".OOOOOOO.\n",
      ".OOOOOOO.\n",
      "..OOOOO..\n",
      "...OOO...\n",
      "....O....\n"
     ]
    }
   ],
   "source": [
    "grid = [['.', '.', '.', '.', '.', '.'],\n",
    "        ['.', 'O', 'O', '.', '.', '.'],\n",
    "        ['O', 'O', 'O', 'O', '.', '.'],\n",
    "        ['O', 'O', 'O', 'O', 'O', '.'],\n",
    "        ['.', 'O', 'O', 'O', 'O', 'O'],\n",
    "        ['O', 'O', 'O', 'O', 'O', '.'],\n",
    "        ['O', 'O', 'O', 'O', '.', '.'],\n",
    "        ['.', 'O', 'O', '.', '.', '.'],\n",
    "        ['.', '.', '.', '.', '.', '.']]\n",
    "\n",
    "for i in range(len(grid[0])):\n",
    "    for j in range(len(grid)):\n",
    "        print(grid[j][i],end='')\n",
    "    print()"
   ]
  },
  {
   "cell_type": "code",
   "execution_count": null,
   "metadata": {},
   "outputs": [],
   "source": []
  }
 ],
 "metadata": {
  "kernelspec": {
   "display_name": "Python 3",
   "language": "python",
   "name": "python3"
  },
  "language_info": {
   "codemirror_mode": {
    "name": "ipython",
    "version": 3
   },
   "file_extension": ".py",
   "mimetype": "text/x-python",
   "name": "python",
   "nbconvert_exporter": "python",
   "pygments_lexer": "ipython3",
   "version": "3.8.5"
  }
 },
 "nbformat": 4,
 "nbformat_minor": 4
}
